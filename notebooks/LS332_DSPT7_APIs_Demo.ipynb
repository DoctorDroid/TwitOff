{
 "cells": [
  {
   "cell_type": "markdown",
   "metadata": {
    "colab": {
     "base_uri": "https://localhost:8080/",
     "height": 155
    },
    "colab_type": "code",
    "id": "SGPLRW-t1ECX",
    "outputId": "f774218a-8e3e-46b3-80ec-8eb1667ddd33"
   },
   "source": [
    "### DSPT6 - Unit 3 Module 2 - Consuming Data from an API\n",
    "\n",
    "The purpose of this notebook is to demonstrate:\n",
    "- Connect to the Twitter API (and twitter_scraper) to query for tweets and user information by various parameters\n",
    "- Convert tweet text using SpaCy into numerical embeddings that can be use in a predictive model"
   ]
  },
  {
   "cell_type": "code",
   "execution_count": 3,
   "metadata": {
    "colab": {},
    "colab_type": "code",
    "id": "vS_A9hjG1HGD"
   },
   "outputs": [],
   "source": [
    "import tweepy"
   ]
  },
  {
   "cell_type": "code",
   "execution_count": 4,
   "metadata": {
    "colab": {},
    "colab_type": "code",
    "id": "ntkRF7mp8zqp"
   },
   "outputs": [],
   "source": [
    "## ADD YOUR CREDENTIALS HERE\n",
    "TWITTER_CONSUMER_API_KEY = '0lxjRi95t863QkmoiwLtnKV1P'\n",
    "TWITTER_CONSUMER_API_SECRET = 'lmpR7S82oyKS1Xb5XMmwgfIxqDTbmFe047F9qdtsGQbBCBUPx7'\n",
    "TWITTER_ACCESS_TOKEN = '1228639510537363456-43ndeDLwjj9YMbyJQbyea3RZhkQAFF'\n",
    "TWITTER_ACCESS_TOKEN_SECRET = 'kDz77DQqdUeDD17JlhBHEiwh8IP0pJamzEWA9McqlrQUh'"
   ]
  },
  {
   "cell_type": "code",
   "execution_count": 5,
   "metadata": {
    "colab": {},
    "colab_type": "code",
    "id": "6F65yM5G1gP1"
   },
   "outputs": [],
   "source": [
    "TWITTER_AUTH = tweepy.OAuthHandler(TWITTER_CONSUMER_API_KEY, TWITTER_CONSUMER_API_SECRET)\n",
    "TWITTER_AUTH.set_access_token(TWITTER_ACCESS_TOKEN, TWITTER_ACCESS_TOKEN_SECRET)\n",
    "TWITTER = tweepy.API(TWITTER_AUTH)"
   ]
  },
  {
   "cell_type": "code",
   "execution_count": 6,
   "metadata": {},
   "outputs": [
    {
     "data": {
      "text/plain": [
       "[&#39;__class__&#39;,\n",
       " &#39;__delattr__&#39;,\n",
       " &#39;__dict__&#39;,\n",
       " &#39;__dir__&#39;,\n",
       " &#39;__doc__&#39;,\n",
       " &#39;__eq__&#39;,\n",
       " &#39;__format__&#39;,\n",
       " &#39;__ge__&#39;,\n",
       " &#39;__getattribute__&#39;,\n",
       " &#39;__gt__&#39;,\n",
       " &#39;__hash__&#39;,\n",
       " &#39;__init__&#39;,\n",
       " &#39;__init_subclass__&#39;,\n",
       " &#39;__le__&#39;,\n",
       " &#39;__lt__&#39;,\n",
       " &#39;__module__&#39;,\n",
       " &#39;__ne__&#39;,\n",
       " &#39;__new__&#39;,\n",
       " &#39;__reduce__&#39;,\n",
       " &#39;__reduce_ex__&#39;,\n",
       " &#39;__repr__&#39;,\n",
       " &#39;__setattr__&#39;,\n",
       " &#39;__sizeof__&#39;,\n",
       " &#39;__str__&#39;,\n",
       " &#39;__subclasshook__&#39;,\n",
       " &#39;__weakref__&#39;,\n",
       " &#39;_add_list_members&#39;,\n",
       " &#39;_lookup_friendships&#39;,\n",
       " &#39;_pack_image&#39;,\n",
       " &#39;_remove_list_members&#39;,\n",
       " &#39;_send_direct_message&#39;,\n",
       " &#39;add_list_member&#39;,\n",
       " &#39;add_list_members&#39;,\n",
       " &#39;api_root&#39;,\n",
       " &#39;auth&#39;,\n",
       " &#39;blocks&#39;,\n",
       " &#39;blocks_ids&#39;,\n",
       " &#39;cache&#39;,\n",
       " &#39;compression&#39;,\n",
       " &#39;configuration&#39;,\n",
       " &#39;create_block&#39;,\n",
       " &#39;create_favorite&#39;,\n",
       " &#39;create_friendship&#39;,\n",
       " &#39;create_list&#39;,\n",
       " &#39;create_media_metadata&#39;,\n",
       " &#39;create_mute&#39;,\n",
       " &#39;create_saved_search&#39;,\n",
       " &#39;destroy_block&#39;,\n",
       " &#39;destroy_direct_message&#39;,\n",
       " &#39;destroy_favorite&#39;,\n",
       " &#39;destroy_friendship&#39;,\n",
       " &#39;destroy_list&#39;,\n",
       " &#39;destroy_mute&#39;,\n",
       " &#39;destroy_saved_search&#39;,\n",
       " &#39;destroy_status&#39;,\n",
       " &#39;favorites&#39;,\n",
       " &#39;followers&#39;,\n",
       " &#39;followers_ids&#39;,\n",
       " &#39;friends&#39;,\n",
       " &#39;friends_ids&#39;,\n",
       " &#39;friendships_incoming&#39;,\n",
       " &#39;friendships_outgoing&#39;,\n",
       " &#39;geo_id&#39;,\n",
       " &#39;geo_search&#39;,\n",
       " &#39;geo_similar_places&#39;,\n",
       " &#39;get_direct_message&#39;,\n",
       " &#39;get_list&#39;,\n",
       " &#39;get_oembed&#39;,\n",
       " &#39;get_saved_search&#39;,\n",
       " &#39;get_settings&#39;,\n",
       " &#39;get_status&#39;,\n",
       " &#39;get_user&#39;,\n",
       " &#39;home_timeline&#39;,\n",
       " &#39;host&#39;,\n",
       " &#39;list_direct_messages&#39;,\n",
       " &#39;list_members&#39;,\n",
       " &#39;list_subscribers&#39;,\n",
       " &#39;list_timeline&#39;,\n",
       " &#39;lists_all&#39;,\n",
       " &#39;lists_memberships&#39;,\n",
       " &#39;lists_subscriptions&#39;,\n",
       " &#39;lookup_friendships&#39;,\n",
       " &#39;lookup_users&#39;,\n",
       " &#39;me&#39;,\n",
       " &#39;media_upload&#39;,\n",
       " &#39;mentions_timeline&#39;,\n",
       " &#39;mutes&#39;,\n",
       " &#39;mutes_ids&#39;,\n",
       " &#39;parser&#39;,\n",
       " &#39;proxy&#39;,\n",
       " &#39;rate_limit_status&#39;,\n",
       " &#39;related_results&#39;,\n",
       " &#39;remove_list_member&#39;,\n",
       " &#39;remove_list_members&#39;,\n",
       " &#39;report_spam&#39;,\n",
       " &#39;retry_count&#39;,\n",
       " &#39;retry_delay&#39;,\n",
       " &#39;retry_errors&#39;,\n",
       " &#39;retweet&#39;,\n",
       " &#39;retweeters&#39;,\n",
       " &#39;retweets&#39;,\n",
       " &#39;retweets_of_me&#39;,\n",
       " &#39;reverse_geocode&#39;,\n",
       " &#39;saved_searches&#39;,\n",
       " &#39;search&#39;,\n",
       " &#39;search_host&#39;,\n",
       " &#39;search_root&#39;,\n",
       " &#39;search_users&#39;,\n",
       " &#39;send_direct_message&#39;,\n",
       " &#39;set_settings&#39;,\n",
       " &#39;show_friendship&#39;,\n",
       " &#39;show_list_member&#39;,\n",
       " &#39;show_list_subscriber&#39;,\n",
       " &#39;statuses_lookup&#39;,\n",
       " &#39;subscribe_list&#39;,\n",
       " &#39;supported_languages&#39;,\n",
       " &#39;timeout&#39;,\n",
       " &#39;trends_available&#39;,\n",
       " &#39;trends_closest&#39;,\n",
       " &#39;trends_place&#39;,\n",
       " &#39;unretweet&#39;,\n",
       " &#39;unsubscribe_list&#39;,\n",
       " &#39;update_list&#39;,\n",
       " &#39;update_profile&#39;,\n",
       " &#39;update_profile_background_image&#39;,\n",
       " &#39;update_profile_banner&#39;,\n",
       " &#39;update_profile_image&#39;,\n",
       " &#39;update_status&#39;,\n",
       " &#39;update_with_media&#39;,\n",
       " &#39;upload_host&#39;,\n",
       " &#39;upload_root&#39;,\n",
       " &#39;user_timeline&#39;,\n",
       " &#39;verify_credentials&#39;,\n",
       " &#39;wait_on_rate_limit&#39;,\n",
       " &#39;wait_on_rate_limit_notify&#39;]"
      ]
     },
     "execution_count": 6,
     "metadata": {},
     "output_type": "execute_result"
    }
   ],
   "source": [
    "dir(TWITTER)"
   ]
  },
  {
   "cell_type": "code",
   "execution_count": 7,
   "metadata": {},
   "outputs": [
    {
     "data": {
      "text/plain": [
       "User(_api=&lt;tweepy.api.API object at 0x000001F18FAEEB48&gt;, _json={&#39;id&#39;: 44196397, &#39;id_str&#39;: &#39;44196397&#39;, &#39;name&#39;: &#39;Elon Musk&#39;, &#39;screen_name&#39;: &#39;elonmusk&#39;, &#39;location&#39;: &#39;&#39;, &#39;profile_location&#39;: None, &#39;description&#39;: &#39;&#39;, &#39;url&#39;: None, &#39;entities&#39;: {&#39;description&#39;: {&#39;urls&#39;: []}}, &#39;protected&#39;: False, &#39;followers_count&#39;: 39080297, &#39;friends_count&#39;: 97, &#39;listed_count&#39;: 56243, &#39;created_at&#39;: &#39;Tue Jun 02 20:12:29 +0000 2009&#39;, &#39;favourites_count&#39;: 6768, &#39;utc_offset&#39;: None, &#39;time_zone&#39;: None, &#39;geo_enabled&#39;: False, &#39;verified&#39;: True, &#39;statuses_count&#39;: 12462, &#39;lang&#39;: None, &#39;status&#39;: {&#39;created_at&#39;: &#39;Fri Oct 02 18:10:23 +0000 2020&#39;, &#39;id&#39;: 1312092581933641729, &#39;id_str&#39;: &#39;1312092581933641729&#39;, &#39;text&#39;: &#39;@Mike94160775 @Tesla @ElectrekCo @Teslarati Glad you’re ok!&#39;, &#39;truncated&#39;: False, &#39;entities&#39;: {&#39;hashtags&#39;: [], &#39;symbols&#39;: [], &#39;user_mentions&#39;: [{&#39;screen_name&#39;: &#39;Mike94160775&#39;, &#39;name&#39;: &#39;Mike&#39;, &#39;id&#39;: 1056457958551379968, &#39;id_str&#39;: &#39;1056457958551379968&#39;, &#39;indices&#39;: [0, 13]}, {&#39;screen_name&#39;: &#39;Tesla&#39;, &#39;name&#39;: &#39;Tesla&#39;, &#39;id&#39;: 13298072, &#39;id_str&#39;: &#39;13298072&#39;, &#39;indices&#39;: [14, 20]}, {&#39;screen_name&#39;: &#39;ElectrekCo&#39;, &#39;name&#39;: &#39;Electrek.Co&#39;, &#39;id&#39;: 2148233600, &#39;id_str&#39;: &#39;2148233600&#39;, &#39;indices&#39;: [21, 32]}, {&#39;screen_name&#39;: &#39;Teslarati&#39;, &#39;name&#39;: &#39;TESLARATI&#39;, &#39;id&#39;: 1308211178, &#39;id_str&#39;: &#39;1308211178&#39;, &#39;indices&#39;: [33, 43]}], &#39;urls&#39;: []}, &#39;source&#39;: &#39;&lt;a href=&quot;http://twitter.com/download/iphone&quot; rel=&quot;nofollow&quot;&gt;Twitter for iPhone&lt;/a&gt;&#39;, &#39;in_reply_to_status_id&#39;: 1306905419084947456, &#39;in_reply_to_status_id_str&#39;: &#39;1306905419084947456&#39;, &#39;in_reply_to_user_id&#39;: 1056457958551379968, &#39;in_reply_to_user_id_str&#39;: &#39;1056457958551379968&#39;, &#39;in_reply_to_screen_name&#39;: &#39;Mike94160775&#39;, &#39;geo&#39;: None, &#39;coordinates&#39;: None, &#39;place&#39;: None, &#39;contributors&#39;: None, &#39;is_quote_status&#39;: False, &#39;retweet_count&#39;: 21, &#39;favorite_count&#39;: 523, &#39;favorited&#39;: False, &#39;retweeted&#39;: False, &#39;lang&#39;: &#39;en&#39;}, &#39;contributors_enabled&#39;: False, &#39;is_translator&#39;: False, &#39;is_translation_enabled&#39;: False, &#39;profile_background_color&#39;: &#39;C0DEED&#39;, &#39;profile_background_image_url&#39;: &#39;http://abs.twimg.com/images/themes/theme1/bg.png&#39;, &#39;profile_background_image_url_https&#39;: &#39;https://abs.twimg.com/images/themes/theme1/bg.png&#39;, &#39;profile_background_tile&#39;: False, &#39;profile_image_url&#39;: &#39;http://pbs.twimg.com/profile_images/1295975423654977537/dHw9JcrK_normal.jpg&#39;, &#39;profile_image_url_https&#39;: &#39;https://pbs.twimg.com/profile_images/1295975423654977537/dHw9JcrK_normal.jpg&#39;, &#39;profile_banner_url&#39;: &#39;https://pbs.twimg.com/profile_banners/44196397/1576183471&#39;, &#39;profile_link_color&#39;: &#39;0084B4&#39;, &#39;profile_sidebar_border_color&#39;: &#39;C0DEED&#39;, &#39;profile_sidebar_fill_color&#39;: &#39;DDEEF6&#39;, &#39;profile_text_color&#39;: &#39;333333&#39;, &#39;profile_use_background_image&#39;: True, &#39;has_extended_profile&#39;: True, &#39;default_profile&#39;: False, &#39;default_profile_image&#39;: False, &#39;following&#39;: True, &#39;follow_request_sent&#39;: False, &#39;notifications&#39;: False, &#39;translator_type&#39;: &#39;none&#39;}, id=44196397, id_str=&#39;44196397&#39;, name=&#39;Elon Musk&#39;, screen_name=&#39;elonmusk&#39;, location=&#39;&#39;, profile_location=None, description=&#39;&#39;, url=None, entities={&#39;description&#39;: {&#39;urls&#39;: []}}, protected=False, followers_count=39080297, friends_count=97, listed_count=56243, created_at=datetime.datetime(2009, 6, 2, 20, 12, 29), favourites_count=6768, utc_offset=None, time_zone=None, geo_enabled=False, verified=True, statuses_count=12462, lang=None, status=Status(_api=&lt;tweepy.api.API object at 0x000001F18FAEEB48&gt;, _json={&#39;created_at&#39;: &#39;Fri Oct 02 18:10:23 +0000 2020&#39;, &#39;id&#39;: 1312092581933641729, &#39;id_str&#39;: &#39;1312092581933641729&#39;, &#39;text&#39;: &#39;@Mike94160775 @Tesla @ElectrekCo @Teslarati Glad you’re ok!&#39;, &#39;truncated&#39;: False, &#39;entities&#39;: {&#39;hashtags&#39;: [], &#39;symbols&#39;: [], &#39;user_mentions&#39;: [{&#39;screen_name&#39;: &#39;Mike94160775&#39;, &#39;name&#39;: &#39;Mike&#39;, &#39;id&#39;: 1056457958551379968, &#39;id_str&#39;: &#39;1056457958551379968&#39;, &#39;indices&#39;: [0, 13]}, {&#39;screen_name&#39;: &#39;Tesla&#39;, &#39;name&#39;: &#39;Tesla&#39;, &#39;id&#39;: 13298072, &#39;id_str&#39;: &#39;13298072&#39;, &#39;indices&#39;: [14, 20]}, {&#39;screen_name&#39;: &#39;ElectrekCo&#39;, &#39;name&#39;: &#39;Electrek.Co&#39;, &#39;id&#39;: 2148233600, &#39;id_str&#39;: &#39;2148233600&#39;, &#39;indices&#39;: [21, 32]}, {&#39;screen_name&#39;: &#39;Teslarati&#39;, &#39;name&#39;: &#39;TESLARATI&#39;, &#39;id&#39;: 1308211178, &#39;id_str&#39;: &#39;1308211178&#39;, &#39;indices&#39;: [33, 43]}], &#39;urls&#39;: []}, &#39;source&#39;: &#39;&lt;a href=&quot;http://twitter.com/download/iphone&quot; rel=&quot;nofollow&quot;&gt;Twitter for iPhone&lt;/a&gt;&#39;, &#39;in_reply_to_status_id&#39;: 1306905419084947456, &#39;in_reply_to_status_id_str&#39;: &#39;1306905419084947456&#39;, &#39;in_reply_to_user_id&#39;: 1056457958551379968, &#39;in_reply_to_user_id_str&#39;: &#39;1056457958551379968&#39;, &#39;in_reply_to_screen_name&#39;: &#39;Mike94160775&#39;, &#39;geo&#39;: None, &#39;coordinates&#39;: None, &#39;place&#39;: None, &#39;contributors&#39;: None, &#39;is_quote_status&#39;: False, &#39;retweet_count&#39;: 21, &#39;favorite_count&#39;: 523, &#39;favorited&#39;: False, &#39;retweeted&#39;: False, &#39;lang&#39;: &#39;en&#39;}, created_at=datetime.datetime(2020, 10, 2, 18, 10, 23), id=1312092581933641729, id_str=&#39;1312092581933641729&#39;, text=&#39;@Mike94160775 @Tesla @ElectrekCo @Teslarati Glad you’re ok!&#39;, truncated=False, entities={&#39;hashtags&#39;: [], &#39;symbols&#39;: [], &#39;user_mentions&#39;: [{&#39;screen_name&#39;: &#39;Mike94160775&#39;, &#39;name&#39;: &#39;Mike&#39;, &#39;id&#39;: 1056457958551379968, &#39;id_str&#39;: &#39;1056457958551379968&#39;, &#39;indices&#39;: [0, 13]}, {&#39;screen_name&#39;: &#39;Tesla&#39;, &#39;name&#39;: &#39;Tesla&#39;, &#39;id&#39;: 13298072, &#39;id_str&#39;: &#39;13298072&#39;, &#39;indices&#39;: [14, 20]}, {&#39;screen_name&#39;: &#39;ElectrekCo&#39;, &#39;name&#39;: &#39;Electrek.Co&#39;, &#39;id&#39;: 2148233600, &#39;id_str&#39;: &#39;2148233600&#39;, &#39;indices&#39;: [21, 32]}, {&#39;screen_name&#39;: &#39;Teslarati&#39;, &#39;name&#39;: &#39;TESLARATI&#39;, &#39;id&#39;: 1308211178, &#39;id_str&#39;: &#39;1308211178&#39;, &#39;indices&#39;: [33, 43]}], &#39;urls&#39;: []}, source=&#39;Twitter for iPhone&#39;, source_url=&#39;http://twitter.com/download/iphone&#39;, in_reply_to_status_id=1306905419084947456, in_reply_to_status_id_str=&#39;1306905419084947456&#39;, in_reply_to_user_id=1056457958551379968, in_reply_to_user_id_str=&#39;1056457958551379968&#39;, in_reply_to_screen_name=&#39;Mike94160775&#39;, geo=None, coordinates=None, place=None, contributors=None, is_quote_status=False, retweet_count=21, favorite_count=523, favorited=False, retweeted=False, lang=&#39;en&#39;), contributors_enabled=False, is_translator=False, is_translation_enabled=False, profile_background_color=&#39;C0DEED&#39;, profile_background_image_url=&#39;http://abs.twimg.com/images/themes/theme1/bg.png&#39;, profile_background_image_url_https=&#39;https://abs.twimg.com/images/themes/theme1/bg.png&#39;, profile_background_tile=False, profile_image_url=&#39;http://pbs.twimg.com/profile_images/1295975423654977537/dHw9JcrK_normal.jpg&#39;, profile_image_url_https=&#39;https://pbs.twimg.com/profile_images/1295975423654977537/dHw9JcrK_normal.jpg&#39;, profile_banner_url=&#39;https://pbs.twimg.com/profile_banners/44196397/1576183471&#39;, profile_link_color=&#39;0084B4&#39;, profile_sidebar_border_color=&#39;C0DEED&#39;, profile_sidebar_fill_color=&#39;DDEEF6&#39;, profile_text_color=&#39;333333&#39;, profile_use_background_image=True, has_extended_profile=True, default_profile=False, default_profile_image=False, following=True, follow_request_sent=False, notifications=False, translator_type=&#39;none&#39;)"
      ]
     },
     "execution_count": 7,
     "metadata": {},
     "output_type": "execute_result"
    }
   ],
   "source": [
    "twitter_user = TWITTER.get_user('elonmusk')\n",
    "twitter_user"
   ]
  },
  {
   "cell_type": "code",
   "execution_count": 8,
   "metadata": {},
   "outputs": [
    {
     "data": {
      "text/plain": [
       "44196397"
      ]
     },
     "execution_count": 8,
     "metadata": {},
     "output_type": "execute_result"
    }
   ],
   "source": [
    "twitter_user.id"
   ]
  },
  {
   "cell_type": "code",
   "execution_count": 9,
   "metadata": {},
   "outputs": [
    {
     "data": {
      "text/plain": [
       "_extended_profile=True, default_profile=False, default_profile_image=False, following=True, follow_request_sent=False, notifications=False, translator_type=&#39;none&#39;), geo=None, coordinates=None, place=None, contributors=None, is_quote_status=False, retweet_count=420, favorite_count=11194, favorited=False, retweeted=False, lang=&#39;und&#39;),\n",
       " Status(_api=&lt;tweepy.api.API object at 0x000001F18FAEEB48&gt;, _json={&#39;created_at&#39;: &#39;Thu Oct 01 23:53:14 +0000 2020&#39;, &#39;id&#39;: 1311816473434701824, &#39;id_str&#39;: &#39;1311816473434701824&#39;, &#39;text&#39;: &#39;@officialalishap @flcnhvy @Tesla Glad to hear your Mom is ok&#39;, &#39;truncated&#39;: False, &#39;entities&#39;: {&#39;hashtags&#39;: [], &#39;symbols&#39;: [], &#39;user_mentions&#39;: [{&#39;screen_name&#39;: &#39;officialalishap&#39;, &#39;name&#39;: &#39;Alisha Patel&#39;, &#39;id&#39;: 1039337225522241538, &#39;id_str&#39;: &#39;1039337225522241538&#39;, &#39;indices&#39;: [0, 16]}, {&#39;screen_name&#39;: &#39;flcnhvy&#39;, &#39;name&#39;: &#39;Viv 🐉&#39;, &#39;id&#39;: 1060180551544528897, &#39;id_str&#39;: &#39;1060180551544528897&#39;, &#39;indices&#39;: [17, 25]}, {&#39;screen_name&#39;: &#39;Tesla&#39;, &#39;name&#39;: &#39;Tesla&#39;, &#39;id&#39;: 13298072, &#39;id_str&#39;: &#39;13298072&#39;, &#39;indices&#39;: [26, 32]}], &#39;urls&#39;: []}, &#39;source&#39;: &#39;&lt;a href=&quot;http://twitter.com/download/iphone&quot; rel=&quot;nofollow&quot;&gt;Twitter for iPhone&lt;/a&gt;&#39;, &#39;in_reply_to_status_id&#39;: 1311745261610430466, &#39;in_reply_to_status_id_str&#39;: &#39;1311745261610430466&#39;, &#39;in_reply_to_user_id&#39;: 1039337225522241538, &#39;in_reply_to_user_id_str&#39;: &#39;1039337225522241538&#39;, &#39;in_reply_to_screen_name&#39;: &#39;officialalishap&#39;, &#39;user&#39;: {&#39;id&#39;: 44196397, &#39;id_str&#39;: &#39;44196397&#39;, &#39;name&#39;: &#39;Elon Musk&#39;, &#39;screen_name&#39;: &#39;elonmusk&#39;, &#39;location&#39;: &#39;&#39;, &#39;description&#39;: &#39;&#39;, &#39;url&#39;: None, &#39;entities&#39;: {&#39;description&#39;: {&#39;urls&#39;: []}}, &#39;protected&#39;: False, &#39;followers_count&#39;: 39080297, &#39;friends_count&#39;: 97, &#39;listed_count&#39;: 56243, &#39;created_at&#39;: &#39;Tue Jun 02 20:12:29 +0000 2009&#39;, &#39;favourites_count&#39;: 6768, &#39;utc_offset&#39;: None, &#39;time_zone&#39;: None, &#39;geo_enabled&#39;: False, &#39;verified&#39;: True, &#39;statuses_count&#39;: 12462, &#39;lang&#39;: None, &#39;contributors_enabled&#39;: False, &#39;is_translator&#39;: False, &#39;is_translation_enabled&#39;: False, &#39;profile_background_color&#39;: &#39;C0DEED&#39;, &#39;profile_background_image_url&#39;: &#39;http://abs.twimg.com/images/themes/theme1/bg.png&#39;, &#39;profile_background_image_url_https&#39;: &#39;https://abs.twimg.com/images/themes/theme1/bg.png&#39;, &#39;profile_background_tile&#39;: False, &#39;profile_image_url&#39;: &#39;http://pbs.twimg.com/profile_images/1295975423654977537/dHw9JcrK_normal.jpg&#39;, &#39;profile_image_url_https&#39;: &#39;https://pbs.twimg.com/profile_images/1295975423654977537/dHw9JcrK_normal.jpg&#39;, &#39;profile_banner_url&#39;: &#39;https://pbs.twimg.com/profile_banners/44196397/1576183471&#39;, &#39;profile_link_color&#39;: &#39;0084B4&#39;, &#39;profile_sidebar_border_color&#39;: &#39;C0DEED&#39;, &#39;profile_sidebar_fill_color&#39;: &#39;DDEEF6&#39;, &#39;profile_text_color&#39;: &#39;333333&#39;, &#39;profile_use_background_image&#39;: True, &#39;has_extended_profile&#39;: True, &#39;default_profile&#39;: False, &#39;default_profile_image&#39;: False, &#39;following&#39;: True, &#39;follow_request_sent&#39;: False, &#39;notifications&#39;: False, &#39;translator_type&#39;: &#39;none&#39;}, &#39;geo&#39;: None, &#39;coordinates&#39;: None, &#39;place&#39;: None, &#39;contributors&#39;: None, &#39;is_quote_status&#39;: False, &#39;retweet_count&#39;: 51, &#39;favorite_count&#39;: 1671, &#39;favorited&#39;: False, &#39;retweeted&#39;: False, &#39;lang&#39;: &#39;en&#39;}, created_at=datetime.datetime(2020, 10, 1, 23, 53, 14), id=1311816473434701824, id_str=&#39;1311816473434701824&#39;, text=&#39;@officialalishap @flcnhvy @Tesla Glad to hear your Mom is ok&#39;, truncated=False, entities={&#39;hashtags&#39;: [], &#39;symbols&#39;: [], &#39;user_mentions&#39;: [{&#39;screen_name&#39;: &#39;officialalishap&#39;, &#39;name&#39;: &#39;Alisha Patel&#39;, &#39;id&#39;: 1039337225522241538, &#39;id_str&#39;: &#39;1039337225522241538&#39;, &#39;indices&#39;: [0, 16]}, {&#39;screen_name&#39;: &#39;flcnhvy&#39;, &#39;name&#39;: &#39;Viv 🐉&#39;, &#39;id&#39;: 1060180551544528897, &#39;id_str&#39;: &#39;1060180551544528897&#39;, &#39;indices&#39;: [17, 25]}, {&#39;screen_name&#39;: &#39;Tesla&#39;, &#39;name&#39;: &#39;Tesla&#39;, &#39;id&#39;: 13298072, &#39;id_str&#39;: &#39;13298072&#39;, &#39;indices&#39;: [26, 32]}], &#39;urls&#39;: []}, source=&#39;Twitter for iPhone&#39;, source_url=&#39;http://twitter.com/download/iphone&#39;, in_reply_to_status_id=1311745261610430466, in_reply_to_status_id_str=&#39;1311745261610430466&#39;, in_reply_to_user_id=1039337225522241538, in_reply_to_user_id_str=&#39;1039337225522241538&#39;, in_reply_to_screen_name=&#39;officialalishap&#39;, author=User(_api=&lt;tweepy.api.API object at 0x000001F18FAEEB48&gt;, _json={&#39;id&#39;: 44196397, &#39;id_str&#39;: &#39;44196397&#39;, &#39;name&#39;: &#39;Elon Musk&#39;, &#39;screen_name&#39;: &#39;elonmusk&#39;, &#39;location&#39;: &#39;&#39;, &#39;description&#39;: &#39;&#39;, &#39;url&#39;: None, &#39;entities&#39;: {&#39;description&#39;: {&#39;urls&#39;: []}}, &#39;protected&#39;: False, &#39;followers_count&#39;: 39080297, &#39;friends_count&#39;: 97, &#39;listed_count&#39;: 56243, &#39;created_at&#39;: &#39;Tue Jun 02 20:12:29 +0000 2009&#39;, &#39;favourites_count&#39;: 6768, &#39;utc_offset&#39;: None, &#39;time_zone&#39;: None, &#39;geo_enabled&#39;: False, &#39;verified&#39;: True, &#39;statuses_count&#39;: 12462, &#39;lang&#39;: None, &#39;contributors_enabled&#39;: False, &#39;is_translator&#39;: False, &#39;is_translation_enabled&#39;: False, &#39;profile_background_color&#39;: &#39;C0DEED&#39;, &#39;profile_background_image_url&#39;: &#39;http://abs.twimg.com/images/themes/theme1/bg.png&#39;, &#39;profile_background_image_url_https&#39;: &#39;https://abs.twimg.com/images/themes/theme1/bg.png&#39;, &#39;profile_background_tile&#39;: False, &#39;profile_image_url&#39;: &#39;http://pbs.twimg.com/profile_images/1295975423654977537/dHw9JcrK_normal.jpg&#39;, &#39;profile_image_url_https&#39;: &#39;https://pbs.twimg.com/profile_images/1295975423654977537/dHw9JcrK_normal.jpg&#39;, &#39;profile_banner_url&#39;: &#39;https://pbs.twimg.com/profile_banners/44196397/1576183471&#39;, &#39;profile_link_color&#39;: &#39;0084B4&#39;, &#39;profile_sidebar_border_color&#39;: &#39;C0DEED&#39;, &#39;profile_sidebar_fill_color&#39;: &#39;DDEEF6&#39;, &#39;profile_text_color&#39;: &#39;333333&#39;, &#39;profile_use_background_image&#39;: True, &#39;has_extended_profile&#39;: True, &#39;default_profile&#39;: False, &#39;default_profile_image&#39;: False, &#39;following&#39;: True, &#39;follow_request_sent&#39;: False, &#39;notifications&#39;: False, &#39;translator_type&#39;: &#39;none&#39;}, id=44196397, id_str=&#39;44196397&#39;, name=&#39;Elon Musk&#39;, screen_name=&#39;elonmusk&#39;, location=&#39;&#39;, description=&#39;&#39;, url=None, entities={&#39;description&#39;: {&#39;urls&#39;: []}}, protected=False, followers_count=39080297, friends_count=97, listed_count=56243, created_at=datetime.datetime(2009, 6, 2, 20, 12, 29), favourites_count=6768, utc_offset=None, time_zone=None, geo_enabled=False, verified=True, statuses_count=12462, lang=None, contributors_enabled=False, is_translator=False, is_translation_enabled=False, profile_background_color=&#39;C0DEED&#39;, profile_background_image_url=&#39;http://abs.twimg.com/images/themes/theme1/bg.png&#39;, profile_background_image_url_https=&#39;https://abs.twimg.com/images/themes/theme1/bg.png&#39;, profile_background_tile=False, profile_image_url=&#39;http://pbs.twimg.com/profile_images/1295975423654977537/dHw9JcrK_normal.jpg&#39;, profile_image_url_https=&#39;https://pbs.twimg.com/profile_images/1295975423654977537/dHw9JcrK_normal.jpg&#39;, profile_banner_url=&#39;https://pbs.twimg.com/profile_banners/44196397/1576183471&#39;, profile_link_color=&#39;0084B4&#39;, profile_sidebar_border_color=&#39;C0DEED&#39;, profile_sidebar_fill_color=&#39;DDEEF6&#39;, profile_text_color=&#39;333333&#39;, profile_use_background_image=True, has_extended_profile=True, default_profile=False, default_profile_image=False, following=True, follow_request_sent=False, notifications=False, translator_type=&#39;none&#39;), user=User(_api=&lt;tweepy.api.API object at 0x000001F18FAEEB48&gt;, _json={&#39;id&#39;: 44196397, &#39;id_str&#39;: &#39;44196397&#39;, &#39;name&#39;: &#39;Elon Musk&#39;, &#39;screen_name&#39;: &#39;elonmusk&#39;, &#39;location&#39;: &#39;&#39;, &#39;description&#39;: &#39;&#39;, &#39;url&#39;: None, &#39;entities&#39;: {&#39;description&#39;: {&#39;urls&#39;: []}}, &#39;protected&#39;: False, &#39;followers_count&#39;: 39080297, &#39;friends_count&#39;: 97, &#39;listed_count&#39;: 56243, &#39;created_at&#39;: &#39;Tue Jun 02 20:12:29 +0000 2009&#39;, &#39;favourites_count&#39;: 6768, &#39;utc_offset&#39;: None, &#39;time_zone&#39;: None, &#39;geo_enabled&#39;: False, &#39;verified&#39;: True, &#39;statuses_count&#39;: 12462, &#39;lang&#39;: None, &#39;contributors_enabled&#39;: False, &#39;is_translator&#39;: False, &#39;is_translation_enabled&#39;: False, &#39;profile_background_color&#39;: &#39;C0DEED&#39;, &#39;profile_background_image_url&#39;: &#39;http://abs.twimg.com/images/themes/theme1/bg.png&#39;, &#39;profile_background_image_url_https&#39;: &#39;https://abs.twimg.com/images/themes/theme1/bg.png&#39;, &#39;profile_background_tile&#39;: False, &#39;profile_image_url&#39;: &#39;http://pbs.twimg.com/profile_images/1295975423654977537/dHw9JcrK_normal.jpg&#39;, &#39;profile_image_url_https&#39;: &#39;https://pbs.twimg.com/profile_images/1295975423654977537/dHw9JcrK_normal.jpg&#39;, &#39;profile_banner_url&#39;: &#39;https://pbs.twimg.com/profile_banners/44196397/1576183471&#39;, &#39;profile_link_color&#39;: &#39;0084B4&#39;, &#39;profile_sidebar_border_color&#39;: &#39;C0DEED&#39;, &#39;profile_sidebar_fill_color&#39;: &#39;DDEEF6&#39;, &#39;profile_text_color&#39;: &#39;333333&#39;, &#39;profile_use_background_image&#39;: True, &#39;has_extended_profile&#39;: True, &#39;default_profile&#39;: False, &#39;default_profile_image&#39;: False, &#39;following&#39;: True, &#39;follow_request_sent&#39;: False, &#39;notifications&#39;: False, &#39;translator_type&#39;: &#39;none&#39;}, id=44196397, id_str=&#39;44196397&#39;, name=&#39;Elon Musk&#39;, screen_name=&#39;elonmusk&#39;, location=&#39;&#39;, description=&#39;&#39;, url=None, entities={&#39;description&#39;: {&#39;urls&#39;: []}}, protected=False, followers_count=39080297, friends_count=97, listed_count=56243, created_at=datetime.datetime(2009, 6, 2, 20, 12, 29), favourites_count=6768, utc_offset=None, time_zone=None, geo_enabled=False, verified=True, statuses_count=12462, lang=None, contributors_enabled=False, is_translator=False, is_translation_enabled=False, profile_background_color=&#39;C0DEED&#39;, profile_background_image_url=&#39;http://abs.twimg.com/images/themes/theme1/bg.png&#39;, profile_background_image_url_https=&#39;https://abs.twimg.com/images/themes/theme1/bg.png&#39;, profile_background_tile=False, profile_image_url=&#39;http://pbs.twimg.com/profile_images/1295975423654977537/dHw9JcrK_normal.jpg&#39;, profile_image_url_https=&#39;https://pbs.twimg.com/profile_images/1295975423654977537/dHw9JcrK_normal.jpg&#39;, profile_banner_url=&#39;https://pbs.twimg.com/profile_banners/44196397/1576183471&#39;, profile_link_color=&#39;0084B4&#39;, profile_sidebar_border_color=&#39;C0DEED&#39;, profile_sidebar_fill_color=&#39;DDEEF6&#39;, profile_text_color=&#39;333333&#39;, profile_use_background_image=True, has_extended_profile=True, default_profile=False, default_profile_image=False, following=True, follow_request_sent=False, notifications=False, translator_type=&#39;none&#39;), geo=None, coordinates=None, place=None, contributors=None, is_quote_status=False, retweet_count=51, favorite_count=1671, favorited=False, retweeted=False, lang=&#39;en&#39;),\n",
       " Status(_api=&lt;tweepy.api.API object at 0x000001F18FAEEB48&gt;, _json={&#39;created_at&#39;: &#39;Thu Oct 01 23:51:36 +0000 2020&#39;, &#39;id&#39;: 1311816064733380609, &#39;id_str&#39;: &#39;1311816064733380609&#39;, &#39;text&#39;: &#39;@Zshauladventure @NASAKennedy @ulalaunch @SpaceX @NatReconOfc Good to see. Inspiring for future of space!&#39;, &#39;truncated&#39;: False, &#39;entities&#39;: {&#39;hashtags&#39;: [], &#39;symbols&#39;: [], &#39;user_mentions&#39;: [{&#39;screen_name&#39;: &#39;Zshauladventure&#39;, &#39;name&#39;: &#39;Zshaul Adventures&#39;, &#39;id&#39;: 1181230465954582529, &#39;id_str&#39;: &#39;1181230465954582529&#39;, &#39;indices&#39;: [0, 16]}, {&#39;screen_name&#39;: &#39;NASAKennedy&#39;, &#39;name&#39;: &quot;NASA&#39;s Kennedy Space Center&quot;, &#39;id&#39;: 16580226, &#39;id_str&#39;: &#39;16580226&#39;, &#39;indices&#39;: [17, 29]}, {&#39;screen_name&#39;: &#39;ulalaunch&#39;, &#39;name&#39;: &#39;ULA&#39;, &#39;id&#39;: 22845770, &#39;id_str&#39;: &#39;22845770&#39;, &#39;indices&#39;: [30, 40]}, {&#39;screen_name&#39;: &#39;SpaceX&#39;, &#39;name&#39;: &#39;SpaceX&#39;, &#39;id&#39;: 34743251, &#39;id_str&#39;: &#39;34743251&#39;, &#39;indices&#39;: [41, 48]}, {&#39;screen_name&#39;: &#39;NatReconOfc&#39;, &#39;name&#39;: &#39;NRO&#39;, &#39;id&#39;: 2785785023, &#39;id_str&#39;: &#39;2785785023&#39;, &#39;indices&#39;: [49, 61]}], &#39;urls&#39;: []}, &#39;source&#39;: &#39;&lt;a href=&quot;http://twitter.com/download/iphone&quot; rel=&quot;nofollow&quot;&gt;Twitter for iPhone&lt;/a&gt;&#39;, &#39;in_reply_to_status_id&#39;: 1311716923084861441, &#39;in_reply_to_status_id_str&#39;: &#39;1311716923084861441&#39;, &#39;in_reply_to_user_id&#39;: 1181230465954582529, &#39;in_reply_to_user_id_str&#39;: &#39;1181230465954582529&#39;, &#39;in_reply_to_screen_name&#39;: &#39;Zshauladventure&#39;, &#39;user&#39;: {&#39;id&#39;: 44196397, &#39;id_str&#39;: &#39;44196397&#39;, &#39;name&#39;: &#39;Elon Musk&#39;, &#39;screen_name&#39;: &#39;elonmusk&#39;, &#39;location&#39;: &#39;&#39;, &#39;description&#39;: &#39;&#39;, &#39;url&#39;: None, &#39;entities&#39;: {&#39;description&#39;: {&#39;urls&#39;: []}}, &#39;protected&#39;: False, &#39;followers_count&#39;: 39080297, &#39;friends_count&#39;: 97, &#39;listed_count&#39;: 56243, &#39;created_at&#39;: &#39;Tue Jun 02 20:12:29 +0000 2009&#39;, &#39;favourites_count&#39;: 6768, &#39;utc_offset&#39;: None, &#39;time_zone&#39;: None, &#39;geo_enabled&#39;: False, &#39;verified&#39;: True, &#39;statuses_count&#39;: 12462, &#39;lang&#39;: None, &#39;contributors_enabled&#39;: False, &#39;is_translator&#39;: False, &#39;is_translation_enabled&#39;: False, &#39;profile_background_color&#39;: &#39;C0DEED&#39;, &#39;profile_background_image_url&#39;: &#39;http://abs.twimg.com/images/themes/theme1/bg.png&#39;, &#39;profile_background_image_url_https&#39;: &#39;https://abs.twimg.com/images/themes/theme1/bg.png&#39;, &#39;profile_background_tile&#39;: False, &#39;profile_image_url&#39;: &#39;http://pbs.twimg.com/profile_images/1295975423654977537/dHw9JcrK_normal.jpg&#39;, &#39;profile_image_url_https&#39;: &#39;https://pbs.twimg.com/profile_images/1295975423654977537/dHw9JcrK_normal.jpg&#39;, &#39;profile_banner_url&#39;: &#39;https://pbs.twimg.com/profile_banners/44196397/1576183471&#39;, &#39;profile_link_color&#39;: &#39;0084B4&#39;, &#39;profile_sidebar_border_color&#39;: &#39;C0DEED&#39;, &#39;profile_sidebar_fill_color&#39;: &#39;DDEEF6&#39;, &#39;profile_text_color&#39;: &#39;333333&#39;, &#39;profile_use_background_image&#39;: True, &#39;has_extended_profile&#39;: True, &#39;default_profile&#39;: False, &#39;default_profile_image&#39;: False, &#39;following&#39;: True, &#39;follow_request_sent&#39;: False, &#39;notifications&#39;: False, &#39;translator_type&#39;: &#39;none&#39;}, &#39;geo&#39;: None, &#39;coordinates&#39;: None, &#39;place&#39;: None, &#39;contributors&#39;: None, &#39;is_quote_status&#39;: False, &#39;retweet_count&#39;: 115, &#39;favorite_count&#39;: 3672, &#39;favorited&#39;: False, &#39;retweeted&#39;: False, &#39;lang&#39;: &#39;en&#39;}, created_at=datetime.datetime(2020, 10, 1, 23, 51, 36), id=1311816064733380609, id_str=&#39;1311816064733380609&#39;, text=&#39;@Zshauladventure @NASAKennedy @ulalaunch @SpaceX @NatReconOfc Good to see. Inspiring for future of space!&#39;, truncated=False, entities={&#39;hashtags&#39;: [], &#39;symbols&#39;: [], &#39;user_mentions&#39;: [{&#39;screen_name&#39;: &#39;Zshauladventure&#39;, &#39;name&#39;: &#39;Zshaul Adventures&#39;, &#39;id&#39;: 1181230465954582529, &#39;id_str&#39;: &#39;1181230465954582529&#39;, &#39;indices&#39;: [0, 16]}, {&#39;screen_name&#39;: &#39;NASAKennedy&#39;, &#39;name&#39;: &quot;NASA&#39;s Kennedy Space Center&quot;, &#39;id&#39;: 16580226, &#39;id_str&#39;: &#39;16580226&#39;, &#39;indices&#39;: [17, 29]}, {&#39;screen_name&#39;: &#39;ulalaunch&#39;, &#39;name&#39;: &#39;ULA&#39;, &#39;id&#39;: 22845770, &#39;id_str&#39;: &#39;22845770&#39;, &#39;indices&#39;: [30, 40]}, {&#39;screen_name&#39;: &#39;SpaceX&#39;, &#39;name&#39;: &#39;SpaceX&#39;, &#39;id&#39;: 34743251, &#39;id_str&#39;: &#39;34743251&#39;, &#39;indices&#39;: [41, 48]}, {&#39;screen_name&#39;: &#39;NatReconOfc&#39;, &#39;name&#39;: &#39;NRO&#39;, &#39;id&#39;: 2785785023, &#39;id_str&#39;: &#39;2785785023&#39;, &#39;indices&#39;: [49, 61]}], &#39;urls&#39;: []}, source=&#39;Twitter for iPhone&#39;, source_url=&#39;http://twitter.com/download/iphone&#39;, in_reply_to_status_id=1311716923084861441, in_reply_to_status_id_str=&#39;1311716923084861441&#39;, in_reply_to_user_id=1181230465954582529, in_reply_to_user_id_str=&#39;1181230465954582529&#39;, in_reply_to_screen_name=&#39;Zshauladventure&#39;, author=User(_api=&lt;tweepy.api.API object at 0x000001F18FAEEB48&gt;, _json={&#39;id&#39;: 44196397, &#39;id_str&#39;: &#39;44196397&#39;, &#39;name&#39;: &#39;Elon Musk&#39;, &#39;screen_name&#39;: &#39;elonmusk&#39;, &#39;location&#39;: &#39;&#39;, &#39;description&#39;: &#39;&#39;, &#39;url&#39;: None, &#39;entities&#39;: {&#39;description&#39;: {&#39;urls&#39;: []}}, &#39;protected&#39;: False, &#39;followers_count&#39;: 39080297, &#39;friends_count&#39;: 97, &#39;listed_count&#39;: 56243, &#39;created_at&#39;: &#39;Tue Jun 02 20:12:29 +0000 2009&#39;, &#39;favourites_count&#39;: 6768, &#39;utc_offset&#39;: None, &#39;time_zone&#39;: None, &#39;geo_enabled&#39;: False, &#39;verified&#39;: True, &#39;statuses_count&#39;: 12462, &#39;lang&#39;: None, &#39;contributors_enabled&#39;: False, &#39;is_translator&#39;: False, &#39;is_translation_enabled&#39;: False, &#39;profile_background_color&#39;: &#39;C0DEED&#39;, &#39;profile_background_image_url&#39;: &#39;http://abs.twimg.com/images/themes/theme1/bg.png&#39;, &#39;profile_background_image_url_https&#39;: &#39;https://abs.twimg.com/images/themes/theme1/bg.png&#39;, &#39;profile_background_tile&#39;: False, &#39;profile_image_url&#39;: &#39;http://pbs.twimg.com/profile_images/1295975423654977537/dHw9JcrK_normal.jpg&#39;, &#39;profile_image_url_https&#39;: &#39;https://pbs.twimg.com/profile_images/1295975423654977537/dHw9JcrK_normal.jpg&#39;, &#39;profile_banner_url&#39;: &#39;https://pbs.twimg.com/profile_banners/44196397/1576183471&#39;, &#39;profile_link_color&#39;: &#39;0084B4&#39;, &#39;profile_sidebar_border_color&#39;: &#39;C0DEED&#39;, &#39;profile_sidebar_fill_color&#39;: &#39;DDEEF6&#39;, &#39;profile_text_color&#39;: &#39;333333&#39;, &#39;profile_use_background_image&#39;: True, &#39;has_extended_profile&#39;: True, &#39;default_profile&#39;: False, &#39;default_profile_image&#39;: False, &#39;following&#39;: True, &#39;follow_request_sent&#39;: False, &#39;notifications&#39;: False, &#39;translator_type&#39;: &#39;none&#39;}, id=44196397, id_str=&#39;44196397&#39;, name=&#39;Elon Musk&#39;, screen_name=&#39;elonmusk&#39;, location=&#39;&#39;, description=&#39;&#39;, url=None, entities={&#39;description&#39;: {&#39;urls&#39;: []}}, protected=False, followers_count=39080297, friends_count=97, listed_count=56243, created_at=datetime.datetime(2009, 6, 2, 20, 12, 29), favourites_count=6768, utc_offset=None, time_zone=None, geo_enabled=False, verified=True, statuses_count=12462, lang=None, contributors_enabled=False, is_translator=False, is_translation_enabled=False, profile_background_color=&#39;C0DEED&#39;, profile_background_image_url=&#39;http://abs.twimg.com/images/themes/theme1/bg.png&#39;, profile_background_image_url_https=&#39;https://abs.twimg.com/images/themes/theme1/bg.png&#39;, profile_background_tile=False, profile_image_url=&#39;http://pbs.twimg.com/profile_images/1295975423654977537/dHw9JcrK_normal.jpg&#39;, profile_image_url_https=&#39;https://pbs.twimg.com/profile_images/1295975423654977537/dHw9JcrK_normal.jpg&#39;, profile_banner_url=&#39;https://pbs.twimg.com/profile_banners/44196397/1576183471&#39;, profile_link_color=&#39;0084B4&#39;, profile_sidebar_border_color=&#39;C0DEED&#39;, profile_sidebar_fill_color=&#39;DDEEF6&#39;, profile_text_color=&#39;333333&#39;, profile_use_background_image=True, has_extended_profile=True, default_profile=False, default_profile_image=False, following=True, follow_request_sent=False, notifications=False, translator_type=&#39;none&#39;), user=User(_api=&lt;tweepy.api.API object at 0x000001F18FAEEB48&gt;, _json={&#39;id&#39;: 44196397, &#39;id_str&#39;: &#39;44196397&#39;, &#39;name&#39;: &#39;Elon Musk&#39;, &#39;screen_name&#39;: &#39;elonmusk&#39;, &#39;location&#39;: &#39;&#39;, &#39;description&#39;: &#39;&#39;, &#39;url&#39;: None, &#39;entities&#39;: {&#39;description&#39;: {&#39;urls&#39;: []}}, &#39;protected&#39;: False, &#39;followers_count&#39;: 39080297, &#39;friends_count&#39;: 97, &#39;listed_count&#39;: 56243, &#39;created_at&#39;: &#39;Tue Jun 02 20:12:29 +0000 2009&#39;, &#39;favourites_count&#39;: 6768, &#39;utc_offset&#39;: None, &#39;time_zone&#39;: None, &#39;geo_enabled&#39;: False, &#39;verified&#39;: True, &#39;statuses_count&#39;: 12462, &#39;lang&#39;: None, &#39;contributors_enabled&#39;: False, &#39;is_translator&#39;: False, &#39;is_translation_enabled&#39;: False, &#39;profile_background_color&#39;: &#39;C0DEED&#39;, &#39;profile_background_image_url&#39;: &#39;http://abs.twimg.com/images/themes/theme1/bg.png&#39;, &#39;profile_background_image_url_https&#39;: &#39;https://abs.twimg.com/images/themes/theme1/bg.png&#39;, &#39;profile_background_tile&#39;: False, &#39;profile_image_url&#39;: &#39;http://pbs.twimg.com/profile_images/1295975423654977537/dHw9JcrK_normal.jpg&#39;, &#39;profile_image_url_https&#39;: &#39;https://pbs.twimg.com/profile_images/1295975423654977537/dHw9JcrK_normal.jpg&#39;, &#39;profile_banner_url&#39;: &#39;https://pbs.twimg.com/profile_banners/44196397/1576183471&#39;, &#39;profile_link_color&#39;: &#39;0084B4&#39;, &#39;profile_sidebar_border_color&#39;: &#39;C0DEED&#39;, &#39;profile_sidebar_fill_color&#39;: &#39;DDEEF6&#39;, &#39;profile_text_color&#39;: &#39;333333&#39;, &#39;profile_use_background_image&#39;: True, &#39;has_extended_profile&#39;: True, &#39;default_profile&#39;: False, &#39;default_profile_image&#39;: False, &#39;following&#39;: True, &#39;follow_request_sent&#39;: False, &#39;notifications&#39;: False, &#39;translator_type&#39;: &#39;none&#39;}, id=44196397, id_str=&#39;44196397&#39;, name=&#39;Elon Musk&#39;, screen_name=&#39;elonmusk&#39;, location=&#39;&#39;, description=&#39;&#39;, url=None, entities={&#39;description&#39;: {&#39;urls&#39;: []}}, protected=False, followers_count=39080297, friends_count=97, listed_count=56243, created_at=datetime.datetime(2009, 6, 2, 20, 12, 29), favourites_count=6768, utc_offset=None, time_zone=None, geo_enabled=False, verified=True, statuses_count=12462, lang=None, contributors_enabled=False, is_translator=False, is_translation_enabled=False, profile_background_color=&#39;C0DEED&#39;, profile_background_image_url=&#39;http://abs.twimg.com/images/themes/theme1/bg.png&#39;, profile_background_image_url_https=&#39;https://abs.twimg.com/images/themes/theme1/bg.png&#39;, profile_background_tile=False, profile_image_url=&#39;http://pbs.twimg.com/profile_images/1295975423654977537/dHw9JcrK_normal.jpg&#39;, profile_image_url_https=&#39;https://pbs.twimg.com/profile_images/1295975423654977537/dHw9JcrK_normal.jpg&#39;, profile_banner_url=&#39;https://pbs.twimg.com/profile_banners/44196397/1576183471&#39;, profile_link_color=&#39;0084B4&#39;, profile_sidebar_border_color=&#39;C0DEED&#39;, profile_sidebar_fill_color=&#39;DDEEF6&#39;, profile_text_color=&#39;333333&#39;, profile_use_background_image=True, has_extended_profile=True, default_profile=False, default_profile_image=False, following=True, follow_request_sent=False, notifications=False, translator_type=&#39;none&#39;), geo=None, coordinates=None, place=None, contributors=None, is_quote_status=False, retweet_count=115, favorite_count=3672, favorited=False, retweeted=False, lang=&#39;en&#39;)]"
      ]
     },
     "execution_count": 9,
     "metadata": {},
     "output_type": "execute_result"
    }
   ],
   "source": [
    "elon_tweets = twitter_user.timeline()\n",
    "elon_tweets"
   ]
  },
  {
   "cell_type": "code",
   "execution_count": 10,
   "metadata": {},
   "outputs": [
    {
     "data": {
      "text/plain": [
       "&#39;@Sofiaan @Tesla Haha&#39;"
      ]
     },
     "execution_count": 10,
     "metadata": {},
     "output_type": "execute_result"
    }
   ],
   "source": [
    "elon_tweets[1].text"
   ]
  },
  {
   "cell_type": "code",
   "execution_count": 11,
   "metadata": {},
   "outputs": [
    {
     "data": {
      "text/plain": [
       "20"
      ]
     },
     "execution_count": 11,
     "metadata": {},
     "output_type": "execute_result"
    }
   ],
   "source": [
    "len(elon_tweets)"
   ]
  },
  {
   "cell_type": "code",
   "execution_count": 12,
   "metadata": {},
   "outputs": [
    {
     "data": {
      "text/plain": [
       "17"
      ]
     },
     "execution_count": 12,
     "metadata": {},
     "output_type": "execute_result"
    }
   ],
   "source": [
    "elon_tweets_ext = twitter_user.timeline(count=200,\n",
    "                                    exclude_replies=True,\n",
    "                                    include_rts=False,\n",
    "                                    # max_id='1303802636827799555',\n",
    "                                    tweet_mode='extended')\n",
    "len(elon_tweets_ext)"
   ]
  },
  {
   "cell_type": "code",
   "execution_count": 13,
   "metadata": {},
   "outputs": [
    {
     "data": {
      "text/plain": [
       "&#39;Thanks Tesla Team for great work on deliveries! For new owners, we super appreciate accommodating us on delivery timing! Definitely one of our toughest quarters in global logistics.&#39;"
      ]
     },
     "execution_count": 13,
     "metadata": {},
     "output_type": "execute_result"
    }
   ],
   "source": [
    "elon_tweets_ext[1].full_text"
   ]
  },
  {
   "cell_type": "markdown",
   "metadata": {},
   "source": [
    "### SpaCy Embeddings"
   ]
  },
  {
   "cell_type": "code",
   "execution_count": 14,
   "metadata": {},
   "outputs": [],
   "source": [
    "import spacy"
   ]
  },
  {
   "cell_type": "code",
   "execution_count": 15,
   "metadata": {},
   "outputs": [],
   "source": [
    "nlp = spacy.load('en_core_web_md', disable=['tagger', 'parser'])"
   ]
  },
  {
   "cell_type": "code",
   "execution_count": 16,
   "metadata": {
    "tags": []
   },
   "outputs": [
    {
     "name": "stdout",
     "output_type": "stream",
     "text": [
      "dog True False\n",
      "cat True False\n",
      "banana True False\n",
      "daslkfjsalkjf False True\n"
     ]
    }
   ],
   "source": [
    "\n",
    "tokens = nlp(\"dog cat banana daslkfjsalkjf\")\n",
    "\n",
    "for token in tokens:\n",
    "    print(token.text, token.has_vector, token.is_oov)"
   ]
  },
  {
   "cell_type": "code",
   "execution_count": 17,
   "metadata": {},
   "outputs": [
    {
     "data": {
      "text/plain": [
       "array([-4.0176e-01,  3.7057e-01,  2.1281e-02, -3.4125e-01,  4.9538e-02,\n",
       "        2.9440e-01, -1.7376e-01, -2.7982e-01,  6.7622e-02,  2.1693e+00,\n",
       "       -6.2691e-01,  2.9106e-01, -6.7270e-01,  2.3319e-01, -3.4264e-01,\n",
       "        1.8311e-01,  5.0226e-01,  1.0689e+00,  1.4698e-01, -4.5230e-01,\n",
       "       -4.1827e-01, -1.5967e-01,  2.6748e-01, -4.8867e-01,  3.6462e-01,\n",
       "       -4.3403e-02, -2.4474e-01, -4.1752e-01,  8.9088e-02, -2.5552e-01,\n",
       "       -5.5695e-01,  1.2243e-01, -8.3526e-02,  5.5095e-01,  3.6410e-01,\n",
       "        1.5361e-01,  5.5738e-01, -9.0702e-01, -4.9098e-02,  3.8580e-01,\n",
       "        3.8000e-01,  1.4425e-01, -2.7221e-01, -3.7016e-01, -1.2904e-01,\n",
       "       -1.5085e-01, -3.8076e-01,  4.9583e-02,  1.2755e-01, -8.2788e-02,\n",
       "        1.4339e-01,  3.2537e-01,  2.7226e-01,  4.3632e-01, -3.1769e-01,\n",
       "        7.9405e-01,  2.6529e-01,  1.0135e-01, -3.3279e-01,  4.3117e-01,\n",
       "        1.6687e-01,  1.0729e-01,  8.9418e-02,  2.8635e-01,  4.0117e-01,\n",
       "       -3.9222e-01,  4.5217e-01,  1.3521e-01, -2.8878e-01, -2.2819e-02,\n",
       "       -3.4975e-01, -2.2996e-01,  2.0224e-01, -2.1177e-01,  2.7184e-01,\n",
       "        9.1703e-02, -2.0610e-01, -6.5758e-01,  1.8949e-01, -2.6756e-01,\n",
       "        9.2639e-02,  4.3316e-01, -4.8868e-01, -3.8309e-01, -2.1910e-01,\n",
       "       -4.4183e-01,  9.8044e-01,  6.7423e-01,  8.4003e-01, -1.8169e-01,\n",
       "        1.7385e-01,  4.1848e-01,  1.6098e-01, -1.0490e-01, -4.1965e-01,\n",
       "       -3.5660e-01, -1.6837e-01, -6.3458e-01,  3.8422e-01, -3.5043e-01,\n",
       "        1.7486e-01,  5.3528e-01,  2.0143e-01,  3.7877e-02,  4.7105e-01,\n",
       "       -4.4344e-01,  1.6840e-01, -1.6685e-01, -2.4022e-01, -1.0077e-01,\n",
       "        3.0334e-01,  4.2730e-01,  3.3803e-01, -4.3481e-01,  1.1343e-01,\n",
       "        6.1958e-02,  6.1808e-02, -1.4007e-01,  8.2018e-02, -3.9130e-02,\n",
       "        5.1442e-02,  2.8725e-01,  5.8025e-01, -5.7641e-01, -3.4652e-01,\n",
       "        1.0132e-01,  1.4463e-01,  1.1569e-02, -3.3701e-01, -1.7586e-01,\n",
       "       -3.5724e-01, -2.1423e-01,  1.1429e-02,  4.7645e-01, -3.7463e-02,\n",
       "       -2.9488e-01, -1.7465e-01,  3.0255e-01,  6.0317e-01, -6.6790e-02,\n",
       "       -2.7050e+00, -7.0308e-01,  4.0548e-01,  6.2874e-01,  6.3080e-01,\n",
       "       -5.4513e-01, -9.6191e-03,  2.6533e-01,  2.3391e-01, -5.1886e-02,\n",
       "       -6.5759e-03,  1.8573e-02, -4.5693e-01, -7.0351e-02, -3.0621e-01,\n",
       "       -1.4018e-02, -2.0408e-01,  3.7100e-01, -3.2354e-01, -8.4646e-01,\n",
       "        2.7092e-01, -1.1961e-01, -9.5576e-02, -6.0464e-01,  4.2409e-02,\n",
       "        2.4656e-01,  3.8445e-02, -2.5467e-02, -9.2908e-02, -2.1356e-01,\n",
       "        3.6120e-01,  1.9113e-02,  6.2741e-02, -1.3083e-01, -1.5146e-03,\n",
       "        5.8238e-01, -1.8956e-01,  7.8105e-01,  1.0477e-02,  1.0928e+00,\n",
       "        1.0140e-01, -3.6248e-01, -1.1962e-01, -3.4462e-01, -5.5704e-01,\n",
       "        2.5797e-01,  3.3356e-01,  3.3194e-01, -3.1298e-01, -7.5547e-01,\n",
       "       -7.5290e-01, -9.3072e-02, -1.1173e-01, -5.7251e-01,  1.6639e-01,\n",
       "        6.3579e-01,  2.4006e-01, -2.9211e-01,  9.0182e-01,  1.2425e-01,\n",
       "       -5.7751e-01,  4.7986e-02, -4.2748e-01,  2.4446e-01,  4.7232e-02,\n",
       "        3.5694e-01,  4.4241e-01, -2.3055e-01,  6.6037e-01, -7.3983e-03,\n",
       "       -3.7857e-01,  2.2759e-01, -3.7138e-01,  3.1055e-01, -7.2105e-02,\n",
       "       -2.4490e-01, -3.9761e-02,  5.3650e-01, -4.1478e-01,  1.6563e-01,\n",
       "        3.3707e-01,  1.0920e-01,  3.7219e-01, -5.5727e-01, -7.8060e-01,\n",
       "        1.4251e-01, -3.5828e-01,  4.1638e-01,  2.1446e-01,  1.8410e-01,\n",
       "       -4.7704e-01, -2.2005e-02, -2.3634e-01, -2.2840e-01,  3.4722e-01,\n",
       "        2.3667e-01,  7.4249e-02, -8.8416e-02,  2.8618e-01, -4.6942e-01,\n",
       "       -4.3914e-01, -2.6474e-01, -3.0690e-01, -1.5260e-01, -8.4870e-02,\n",
       "        2.8410e-01, -1.8481e-01, -2.2122e-01, -1.1169e-01, -2.5241e-02,\n",
       "        4.5968e-02,  3.5343e-02,  2.2467e-01,  5.1556e-01, -6.5137e-04,\n",
       "        9.9559e-02, -1.4215e-01,  2.0136e-01,  2.8334e-01, -2.8772e-01,\n",
       "        3.7766e-02, -3.7608e-01, -1.1681e-01, -6.7020e-01, -4.6265e-02,\n",
       "        3.8784e-01, -3.2295e-02, -5.4291e-02, -4.5384e-01,  1.9552e-01,\n",
       "       -2.9470e-01,  8.5009e-01,  1.0345e-01,  9.7010e-02,  1.1339e-01,\n",
       "        3.9502e-01,  5.9043e-02,  2.1978e-01,  1.8845e-01, -1.5891e-01,\n",
       "       -1.0301e-01,  3.3164e-01,  6.1477e-02, -2.9848e-01,  4.4510e-01,\n",
       "        4.7329e-01,  2.6312e-01, -1.8495e-01,  1.4652e-01, -3.1510e-02,\n",
       "        2.2908e-02, -2.5929e-01, -3.0862e-01,  1.7545e-03, -1.8962e-01,\n",
       "        5.4789e-01,  3.1194e-01,  2.4693e-01,  2.9929e-01, -7.4861e-02],\n",
       "      dtype=float32)"
      ]
     },
     "execution_count": 17,
     "metadata": {},
     "output_type": "execute_result"
    }
   ],
   "source": [
    "dog = nlp('dog')\n",
    "dog.vector"
   ]
  },
  {
   "cell_type": "markdown",
   "metadata": {},
   "source": [
    "### Bringing it all together"
   ]
  },
  {
   "cell_type": "code",
   "execution_count": 20,
   "metadata": {},
   "outputs": [
    {
     "data": {
      "text/plain": [
       "array([-7.18728974e-02,  2.97771603e-01, -4.37522531e-02, -9.79740024e-02,\n",
       "        4.59395424e-02, -3.88047807e-02,  3.99180166e-02, -7.35119805e-02,\n",
       "        3.98872793e-03,  2.01765513e+00, -2.38754973e-01,  2.12704055e-02,\n",
       "        8.11695009e-02,  1.66987125e-02, -8.19785967e-02, -6.95483238e-02,\n",
       "       -2.74287034e-02,  1.25038862e+00, -1.28530279e-01,  2.90594762e-05,\n",
       "       -5.21141551e-02, -3.50238159e-02,  1.05087506e-02, -1.24235503e-01,\n",
       "       -1.24730393e-02,  5.62962256e-02, -3.33214998e-02,  1.79408919e-02,\n",
       "        1.17023543e-01,  6.33955300e-02, -1.05149280e-02,  7.00587034e-03,\n",
       "        1.02100158e-02,  5.21205254e-02,  2.21641902e-02, -1.03850383e-02,\n",
       "        1.10859096e-01,  2.63785105e-02, -5.55697009e-02, -5.03252819e-02,\n",
       "       -3.23525891e-02,  3.56648043e-02, -4.33265492e-02,  1.17488541e-02,\n",
       "        4.55410555e-02,  6.37782365e-02, -6.36666790e-02,  1.10338390e-01,\n",
       "        3.09718102e-02,  3.20692435e-02,  1.37490273e-01,  4.57462249e-03,\n",
       "        4.86723036e-02,  6.67551253e-03,  3.13929655e-02,  8.62749815e-02,\n",
       "       -1.11374194e-02,  4.47249562e-02,  3.31498007e-03, -5.74270217e-03,\n",
       "        3.07303108e-02, -6.02622181e-02, -9.15015563e-02,  8.47303420e-02,\n",
       "        1.76237032e-01, -1.08162880e-01, -6.28397539e-02,  1.95343986e-01,\n",
       "        2.96583306e-03,  6.99516386e-02,  7.69446567e-02, -2.71068327e-02,\n",
       "        1.30151793e-01,  6.67512119e-02,  8.31283182e-02,  7.23191053e-02,\n",
       "        8.30874518e-02, -1.77877083e-01,  2.41387505e-02,  2.55323023e-01,\n",
       "       -1.53282611e-02,  1.90716296e-01,  2.41570119e-02,  1.07789047e-01,\n",
       "        5.61978519e-02, -1.61412790e-01, -1.53349847e-01,  1.04793407e-01,\n",
       "        2.14813620e-01,  1.14962615e-01, -6.14468679e-02,  8.11702609e-02,\n",
       "       -1.16237670e-01,  1.19459480e-01,  1.95227806e-02,  2.66791042e-03,\n",
       "       -3.55360582e-02, -1.44009709e-01,  6.20629862e-02,  4.04581279e-02,\n",
       "       -2.25283094e-02, -8.08159262e-02, -1.19533934e-01, -9.89675671e-02,\n",
       "        7.48424307e-02, -6.80329561e-01,  2.42613450e-01,  1.62540749e-03,\n",
       "       -1.80570502e-02, -7.51554966e-02,  6.45366609e-02, -3.13452184e-01,\n",
       "        2.00348556e-01, -6.66597486e-02,  1.52041495e-01, -5.00390269e-02,\n",
       "       -3.07121314e-03,  4.37722020e-02,  3.27696651e-02, -5.41088283e-02,\n",
       "        1.73596695e-01,  1.43721867e-02, -9.05687548e-03, -1.56379566e-02,\n",
       "        4.68055271e-02, -6.89085126e-02, -4.90434235e-03, -1.11633651e-01,\n",
       "       -2.41696462e-03, -2.10552830e-02,  9.30801556e-02, -1.04950927e-01,\n",
       "       -1.45046681e-01, -1.29555225e-01, -7.80383721e-02,  8.19981247e-02,\n",
       "        6.13355916e-03,  2.80891228e-02,  1.30869802e-02,  6.10204339e-02,\n",
       "       -1.03224123e+00, -4.68957424e-02,  2.50118315e-01, -7.39565268e-02,\n",
       "       -2.09631845e-02, -6.02852479e-02, -8.11907202e-02,  1.21797718e-01,\n",
       "        3.12080011e-02,  7.12295398e-02, -1.36726767e-01,  1.04349375e-01,\n",
       "        6.45553023e-02, -1.13554366e-01, -1.39615666e-02,  1.18705444e-02,\n",
       "        2.42273137e-02,  1.17521901e-02,  2.01666355e-02, -6.10048175e-02,\n",
       "        1.59163754e-02,  9.54541788e-02, -8.37836862e-02, -2.25759655e-01,\n",
       "        4.18915302e-02, -1.23542577e-01,  7.70259276e-02, -4.50729169e-02,\n",
       "        1.67365581e-01,  1.29240956e-02, -4.52971756e-02,  2.45449990e-02,\n",
       "       -5.53619005e-02,  8.49030446e-04, -2.10723933e-02,  2.45078132e-02,\n",
       "       -8.35322961e-02,  3.22688594e-02, -5.54977451e-03,  1.04432948e-01,\n",
       "        6.50760457e-02, -3.10654584e-02, -3.47904377e-02, -4.35962901e-02,\n",
       "       -3.62151489e-02, -1.48531824e-01,  4.89001200e-02, -9.53290239e-02,\n",
       "        1.78144351e-02,  8.70078951e-02,  3.22275385e-02, -1.52026648e-02,\n",
       "        1.02377370e-01,  7.46993124e-02, -8.30820501e-02,  1.05568461e-01,\n",
       "        4.02315781e-02, -4.02995944e-02,  5.56065440e-02,  1.67116895e-01,\n",
       "       -1.31914765e-02, -1.30641773e-01, -1.40242307e-02,  1.17668621e-02,\n",
       "        2.34998360e-01,  3.97058241e-02, -7.86147565e-02,  1.32146552e-01,\n",
       "       -3.74980271e-02,  2.53164805e-02, -9.46906283e-02, -1.14393793e-01,\n",
       "        2.24837326e-02, -9.97002870e-02,  5.51822893e-02,  2.72453249e-01,\n",
       "        2.74442863e-02, -8.71340483e-02, -2.33997956e-01,  6.80648461e-02,\n",
       "       -6.54015467e-02, -1.23895872e-02, -7.38274083e-02,  7.22069219e-02,\n",
       "        4.70690541e-02, -2.09812857e-02, -1.37018226e-02,  1.13428362e-01,\n",
       "       -1.86559465e-02,  3.12478980e-03, -1.04861474e-02, -1.07135195e-02,\n",
       "       -8.91097710e-02,  4.10162210e-02, -4.67981882e-02, -1.58696678e-02,\n",
       "       -1.04384847e-01, -1.11733779e-01, -1.06406592e-01, -1.89326908e-02,\n",
       "        7.14297444e-02, -1.33480839e-02, -9.36789513e-02,  1.96486205e-01,\n",
       "        1.38266936e-01, -1.51436552e-02, -1.35019004e-01, -1.06947497e-01,\n",
       "       -9.82701182e-02,  9.57014933e-02, -2.58474387e-02, -2.38742083e-02,\n",
       "       -2.18522310e-01, -8.20079148e-02, -1.63871963e-02,  1.57001317e-01,\n",
       "        7.23562539e-02,  6.00356283e-03, -1.76588088e-01,  9.41399485e-03,\n",
       "        1.11727886e-01,  9.40055624e-02, -6.86573610e-02, -6.96496805e-03,\n",
       "       -7.32523501e-02, -1.24688171e-01,  4.78752479e-02,  1.35796696e-01,\n",
       "        3.15773875e-01,  8.97823051e-02, -2.11479440e-02,  3.21448855e-02,\n",
       "       -1.45821005e-01, -1.39348000e-01, -1.57641098e-01,  1.95562337e-02,\n",
       "        6.27864078e-02,  4.78537977e-02,  1.70315742e-01,  2.16949910e-01,\n",
       "        4.19298783e-02, -3.36873755e-02,  2.96377344e-03,  7.76188299e-02,\n",
       "       -6.18846640e-02, -4.78468165e-02,  1.46779880e-01, -1.75617099e-01,\n",
       "        1.73491500e-02,  2.29725279e-02, -2.30408028e-01, -8.96867216e-02,\n",
       "        3.24762389e-02, -1.26273083e-02,  4.69240136e-02, -1.17328279e-01,\n",
       "        2.95945331e-02, -4.93582748e-02, -1.08633772e-01,  1.63322538e-01],\n",
       "      dtype=float32)"
      ]
     },
     "execution_count": 20,
     "metadata": {},
     "output_type": "execute_result"
    }
   ],
   "source": [
    "tweet_embedding = nlp(elon_tweets_ext[1].full_text)\n",
    "tweet_embedding.vector\n",
    "#some computational magic that averages the vectors of every word in\n",
    "#the tweet and creates a full tweet vector. "
   ]
  },
  {
   "cell_type": "code",
   "execution_count": 21,
   "metadata": {},
   "outputs": [],
   "source": [
    "def vectorize_tweet(nlp, tweet_text):\n",
    "    return nlp(tweet_text).vector"
   ]
  },
  {
   "cell_type": "code",
   "execution_count": 22,
   "metadata": {},
   "outputs": [],
   "source": [
    "def add_or_update_user(username, nlp):\n",
    "    try:\n",
    "        twitter_user = TWITTER.get_user(username)\n",
    "\n",
    "        tweets = twitter_user.timeline(count=200,\n",
    "                                    exclude_replies=True,\n",
    "                                    include_rts=False,\n",
    "                                    tweet_mode='extended')\n",
    "\n",
    "        embeddings = vectorize_tweet(nlp, tweets[0].full_text)\n",
    "    \n",
    "    except Exception as e:\n",
    "        print('Error processing {}: {}'.format(username, e))\n",
    "\n",
    "    return tweets, embeddings"
   ]
  },
  {
   "cell_type": "code",
   "execution_count": null,
   "metadata": {},
   "outputs": [],
   "source": [
    "# Load and save SpaCy model"
   ]
  },
  {
   "cell_type": "code",
   "execution_count": 1,
   "metadata": {},
   "outputs": [],
   "source": [
    "import spacy\n",
    "import en_core_web_md\n",
    "nlp = en_core_web_md.load()\n",
    "nlp.to_disk('../spacy_md_model/')"
   ]
  },
  {
   "cell_type": "code",
   "execution_count": 2,
   "metadata": {},
   "outputs": [
    {
     "output_type": "execute_result",
     "data": {
      "text/plain": [
       "array([-1.25881165e-01,  2.10613653e-01, -1.26579955e-01,  6.29366711e-02,\n",
       "        1.16512835e-01, -6.95521757e-02,  6.40470013e-02, -2.60632157e-01,\n",
       "        1.43511174e-02,  2.05133510e+00, -2.30582431e-01,  2.38859653e-01,\n",
       "        1.49826659e-02,  4.16522957e-02, -9.59881619e-02, -1.34380415e-01,\n",
       "        4.28724997e-02,  1.43407667e+00, -1.31968319e-01, -1.23454161e-01,\n",
       "       -7.35233352e-02, -3.10525984e-01,  5.13606630e-02,  1.90176055e-01,\n",
       "        8.96968320e-02,  1.02856338e-01, -1.20686693e-02, -6.97226748e-02,\n",
       "        9.88666639e-02, -3.95818353e-02, -1.00199670e-01,  1.93616748e-03,\n",
       "        1.42904162e-01, -1.25805333e-01, -3.44967470e-02, -6.78437725e-02,\n",
       "        1.08426921e-01, -2.26500019e-01, -2.00690076e-01, -3.09565336e-01,\n",
       "        1.62446842e-01,  4.26666625e-02,  2.70610183e-01, -3.28303009e-01,\n",
       "        2.09766510e-03, -9.34608355e-02, -1.68133333e-01,  1.44038349e-02,\n",
       "       -1.15076669e-01,  6.46145046e-02, -2.19690159e-01,  2.12156177e-01,\n",
       "        7.46965036e-02,  1.78751647e-02, -2.64083338e-03,  1.09822989e-01,\n",
       "        9.48475972e-02,  1.60033500e-03,  4.38643657e-02, -2.45306492e-01,\n",
       "       -9.12430286e-02,  1.27871692e-01, -4.67245020e-02,  2.67801315e-01,\n",
       "       -1.63833406e-02, -1.05042331e-01, -1.78746343e-01,  1.35613009e-01,\n",
       "       -5.67928366e-02,  3.11875015e-01,  2.81633306e-02, -6.60666674e-02,\n",
       "        2.09797844e-01, -5.80609925e-02, -3.04849376e-03, -1.66744173e-01,\n",
       "        7.50758359e-03, -5.59239984e-02, -3.60533327e-01,  2.64461666e-01,\n",
       "       -6.31233072e-03, -3.58748175e-02, -9.10829976e-02,  1.00626379e-01,\n",
       "        9.04738382e-02, -1.38146341e-01,  1.03344850e-01, -2.49781832e-01,\n",
       "        1.93093345e-01, -8.39999784e-03, -1.66422665e-01,  2.43986174e-01,\n",
       "        1.71307921e-02, -4.04443406e-02, -3.96509990e-02,  1.27502501e-01,\n",
       "       -1.20186828e-01, -8.73366669e-02,  1.87698320e-01,  1.08050033e-02,\n",
       "        1.22474998e-01,  1.76460017e-02, -9.79883373e-02,  1.30891502e-01,\n",
       "        1.95162848e-01, -6.88651621e-01,  2.24149182e-01, -1.08051002e-01,\n",
       "        1.48399547e-03, -8.34799837e-03,  1.79166645e-02, -1.45693319e-02,\n",
       "       -6.85243309e-02,  6.87236711e-02, -2.09844351e-01,  1.51569203e-01,\n",
       "       -2.48310328e-01,  2.21479163e-01,  7.08800042e-03,  8.52264985e-02,\n",
       "        2.12616473e-03, -8.01758394e-02, -3.63848321e-02, -3.11522689e-02,\n",
       "       -1.40945166e-01,  2.27795839e-01, -3.02194685e-01, -3.42478365e-01,\n",
       "        9.00262520e-02,  2.29838286e-02, -7.37900287e-03, -1.46292835e-01,\n",
       "       -1.73406824e-02,  1.88903332e-01,  2.14220002e-01,  1.21608071e-01,\n",
       "       -4.36181612e-02,  1.58987999e-01,  9.63231698e-02, -3.25908363e-02,\n",
       "       -1.15022838e+00,  1.32466659e-01,  1.21466713e-02,  3.90963331e-02,\n",
       "       -7.18461648e-02, -2.55394489e-01, -1.14760667e-01, -2.32416671e-02,\n",
       "        1.71424985e-01, -7.11994991e-02,  1.93704981e-02,  6.29089475e-02,\n",
       "       -2.16166694e-02, -2.86391675e-02,  5.51866405e-02, -1.10217882e-02,\n",
       "       -2.08869234e-01, -1.11869663e-01,  1.25339985e-01, -9.96593460e-02,\n",
       "        7.99566973e-03,  2.14066487e-02,  9.80056599e-02, -7.67273381e-02,\n",
       "       -3.21026891e-01, -1.08962327e-01,  6.46716729e-03,  8.40381384e-02,\n",
       "        7.78078511e-02, -6.36735037e-02,  1.17193341e-01, -1.70446992e-01,\n",
       "        2.11018309e-01, -1.60954490e-01, -2.23976418e-01,  5.51983481e-03,\n",
       "        6.57335564e-04, -8.59493315e-02, -1.05487324e-01,  1.94509272e-02,\n",
       "       -5.40260039e-02, -5.45048267e-02, -6.35998324e-02, -1.91252336e-01,\n",
       "        1.18511505e-01,  1.96720678e-02, -2.17714831e-01,  6.42216727e-02,\n",
       "       -2.91734245e-02, -6.80866614e-02, -1.99526668e-01,  3.62351649e-02,\n",
       "       -2.08148658e-01,  1.73703328e-01,  3.01705033e-01,  1.58265159e-01,\n",
       "       -7.10791647e-02, -5.65194972e-02,  6.97290003e-02, -1.25760004e-01,\n",
       "        8.03843364e-02, -2.06041515e-01, -2.82769531e-01,  1.10106170e-01,\n",
       "        1.67722151e-01, -7.95281604e-02,  5.10493256e-02,  1.21482484e-01,\n",
       "        2.49608364e-02,  1.11889832e-01, -5.44446744e-02, -1.88933406e-03,\n",
       "        6.41011670e-02, -1.74366176e-01,  2.66215980e-01,  2.39551976e-01,\n",
       "       -6.65008351e-02,  2.28426650e-01, -7.75611699e-02,  2.35950336e-01,\n",
       "       -3.19064967e-02, -1.74690500e-01, -8.56596604e-02,  1.96712837e-01,\n",
       "        7.41848052e-02, -1.78038344e-01, -1.40763326e-02,  6.94916621e-02,\n",
       "        2.58266684e-02, -8.87468383e-02, -3.92316692e-02,  9.19583216e-02,\n",
       "       -3.80893424e-02,  2.29314994e-02, -3.24987680e-01, -5.05230762e-02,\n",
       "        8.72050822e-02,  5.50495088e-02, -1.35397926e-01,  4.83533293e-02,\n",
       "        5.87950135e-03, -2.97733094e-03,  1.50290832e-01, -3.40431631e-02,\n",
       "        2.56667346e-01, -6.19223416e-02,  1.52225330e-01, -1.75553337e-01,\n",
       "       -9.73838344e-02, -1.39384968e-02, -2.55413298e-02,  3.14808376e-02,\n",
       "        1.19310834e-01, -4.73153293e-02,  1.50328325e-02,  3.06208163e-01,\n",
       "        2.58024186e-01, -1.69301674e-01,  1.06996983e-01, -3.03093325e-02,\n",
       "        3.00718248e-02,  1.05293505e-01,  5.04358299e-02, -6.47628382e-02,\n",
       "       -4.38186564e-02,  1.16908299e-02,  8.43320116e-02,  1.78786591e-01,\n",
       "        6.69269979e-01, -9.92236510e-02, -6.32435009e-02, -7.79643282e-02,\n",
       "       -7.32790008e-02, -1.60063326e-01, -1.11718662e-01, -8.43698382e-02,\n",
       "        1.41083300e-02, -4.44821715e-02,  1.45226836e-01,  2.13027343e-01,\n",
       "        4.24922496e-01,  1.44448519e-01,  6.26591817e-02, -3.36402863e-01,\n",
       "       -1.24872237e-01, -1.94953337e-01, -2.08598319e-02, -3.04116663e-02,\n",
       "        2.11988330e-01, -1.19362153e-01,  2.83908341e-02,  6.10615648e-02,\n",
       "        5.52732730e-03, -4.01476659e-02, -1.32345958e-02, -1.23476505e-01,\n",
       "       -1.34729341e-01, -6.43274859e-02, -1.72231659e-01,  2.36237850e-02],\n",
       "      dtype=float32)"
      ]
     },
     "metadata": {},
     "execution_count": 2
    }
   ],
   "source": [
    "nlp2 = spacy.load('../spacy_md_model/')\n",
    "nlp2('This is a sample sentence.').vector"
   ]
  },
  {
   "source": [
    "### For saving the model in the repo"
   ],
   "cell_type": "markdown",
   "metadata": {}
  },
  {
   "cell_type": "code",
   "execution_count": 7,
   "metadata": {},
   "outputs": [],
   "source": [
    "import spacy\n",
    "import en_core_web_sm\n",
    "\n",
    "nlp = en_core_web_sm.load()\n",
    "nlp.to_disk('../spacy_sm_model')"
   ]
  }
 ],
 "metadata": {
  "colab": {
   "collapsed_sections": [],
   "name": "DSPT6_APIs_Demo.ipynb",
   "provenance": []
  },
  "kernelspec": {
   "display_name": "Python 3",
   "language": "python",
   "name": "python3"
  },
  "language_info": {
   "codemirror_mode": {
    "name": "ipython",
    "version": 3
   },
   "file_extension": ".py",
   "mimetype": "text/x-python",
   "name": "python",
   "nbconvert_exporter": "python",
   "pygments_lexer": "ipython3",
   "version": "3.7.6-final"
  }
 },
 "nbformat": 4,
 "nbformat_minor": 4
}